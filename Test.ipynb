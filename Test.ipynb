{
 "cells": [
  {
   "cell_type": "code",
   "execution_count": 1,
   "metadata": {},
   "outputs": [],
   "source": [
    "import pandas as pd\n",
    "from espnff import League"
   ]
  },
  {
   "cell_type": "markdown",
   "metadata": {},
   "source": [
    "### Leagues"
   ]
  },
  {
   "cell_type": "code",
   "execution_count": 12,
   "metadata": {},
   "outputs": [],
   "source": [
    "## TBN \n",
    "tbn_league_id = 1256551\n",
    "year = 2018\n",
    "## TAL \n",
    "tal_league_id = 1381696"
   ]
  },
  {
   "cell_type": "code",
   "execution_count": 13,
   "metadata": {},
   "outputs": [],
   "source": [
    "tbn_league = League(tbn_league_id, year)\n",
    "tal_league = League(tal_league_id, year)"
   ]
  },
  {
   "cell_type": "markdown",
   "metadata": {},
   "source": [
    "### Iterate through scoreboard"
   ]
  },
  {
   "cell_type": "code",
   "execution_count": 20,
   "metadata": {},
   "outputs": [
    {
     "name": "stdout",
     "output_type": "stream",
     "text": [
      "1\n",
      "2\n",
      "3\n",
      "4\n",
      "5\n",
      "6\n",
      "7\n",
      "8\n",
      "9\n",
      "10\n",
      "11\n",
      "12\n",
      "13\n",
      "14\n",
      "15\n",
      "16\n"
     ]
    }
   ],
   "source": [
    "for week in range(1, 17):\n",
    "    print(week)\n",
    "    t = tbn_league.scoreboard(week)"
   ]
  },
  {
   "cell_type": "code",
   "execution_count": 28,
   "metadata": {},
   "outputs": [
    {
     "name": "stdout",
     "output_type": "stream",
     "text": [
      "Matchup(Team(Team Pan), None)\n",
      "Team(Team Pan)\n",
      "0\n",
      "None\n",
      "None\n",
      "Matchup(Team(Team Bryant), Team(Scurvy Dawgs))\n",
      "Team(Team Bryant)\n",
      "0\n",
      "Team(Scurvy Dawgs)\n",
      "0\n",
      "Matchup(Team(Team Scuoteguazza), Team(Last Thing On Body Damage))\n",
      "Team(Team Scuoteguazza)\n",
      "0\n",
      "Team(Last Thing On Body Damage)\n",
      "0\n",
      "Matchup(Team(Team Tanner), Team(Team Iorgulescu))\n",
      "Team(Team Tanner)\n",
      "17.7\n",
      "Team(Team Iorgulescu)\n",
      "0\n",
      "Matchup(Team(Team Taylor), Team(ATX Vatos Locos))\n",
      "Team(Team Taylor)\n",
      "0\n",
      "Team(ATX Vatos Locos)\n",
      "9\n"
     ]
    }
   ],
   "source": [
    "for matchup in t:\n",
    "    print(matchup)\n",
    "    # home team\n",
    "    print(matchup.home_team)\n",
    "    print(matchup.home_score)\n",
    "    # away team\n",
    "    print(matchup.away_team)\n",
    "    print(matchup.away_score)"
   ]
  },
  {
   "cell_type": "code",
   "execution_count": null,
   "metadata": {},
   "outputs": [],
   "source": []
  }
 ],
 "metadata": {
  "kernelspec": {
   "display_name": "Python 3",
   "language": "python",
   "name": "python3"
  },
  "language_info": {
   "codemirror_mode": {
    "name": "ipython",
    "version": 3
   },
   "file_extension": ".py",
   "mimetype": "text/x-python",
   "name": "python",
   "nbconvert_exporter": "python",
   "pygments_lexer": "ipython3",
   "version": "3.6.5"
  }
 },
 "nbformat": 4,
 "nbformat_minor": 2
}
