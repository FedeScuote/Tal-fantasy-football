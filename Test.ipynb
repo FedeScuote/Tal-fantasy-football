{
 "cells": [
  {
   "cell_type": "code",
   "execution_count": 1,
   "metadata": {},
   "outputs": [],
   "source": [
    "import pandas as pd\n",
    "from espnff import League"
   ]
  },
  {
   "cell_type": "markdown",
   "metadata": {},
   "source": [
    "### Leagues"
   ]
  },
  {
   "cell_type": "code",
   "execution_count": 2,
   "metadata": {},
   "outputs": [],
   "source": [
    "## TBN \n",
    "tbn_league_id = 1256551\n",
    "year = 2018\n",
    "## TAL \n",
    "tal_league_id = 1381696"
   ]
  },
  {
   "cell_type": "code",
   "execution_count": 3,
   "metadata": {},
   "outputs": [],
   "source": [
    "tbn_league = League(tbn_league_id, year)\n",
    "tal_league = League(tal_league_id, year)"
   ]
  },
  {
   "cell_type": "markdown",
   "metadata": {},
   "source": [
    "### Iterate through scoreboard"
   ]
  },
  {
   "cell_type": "code",
   "execution_count": 66,
   "metadata": {},
   "outputs": [],
   "source": [
    "### total weeks in season\n",
    "from datetime import datetime\n",
    "season_weeks = 13 #regular season \n",
    "season_sunday_start = datetime.strptime('Sep 9 2018', '%b %d %Y').date()# Sept 9 \n",
    "### get last sunday\n",
    "import datetime\n",
    "today = datetime.date.today()\n",
    "idx = (today.weekday() + 1)\n",
    "sun = today - datetime.timedelta(idx)\n",
    "### last possible week \n",
    "current_week = (sun - season_sunday_start).days/7 + 1"
   ]
  },
  {
   "cell_type": "markdown",
   "metadata": {},
   "source": [
    "### Create Empty Standings"
   ]
  },
  {
   "cell_type": "code",
   "execution_count": 98,
   "metadata": {},
   "outputs": [],
   "source": [
    "import re\n",
    "tbn_teams = tbn_league.teams\n",
    "tal_teams = tal_league.teams\n",
    "tbn_teams = [str(i) for i in tbn_teams]\n",
    "tal_teams = [str(i) for i in tal_teams]\n",
    "tal_teams = [re.search(r'\\((.*?)\\)',i).group(1) for i in tal_teams]\n",
    "tbn_teams = [re.search(r'\\((.*?)\\)',i).group(1) for i in tbn_teams]"
   ]
  },
  {
   "cell_type": "code",
   "execution_count": 99,
   "metadata": {},
   "outputs": [
    {
     "data": {
      "text/plain": [
       "['The  Hogs',\n",
       " 'DuncanClan Crushers',\n",
       " 'Do it for the lols',\n",
       " 'Can You Feel The Tension?',\n",
       " 'ALA Ballers',\n",
       " 'Chewbaca Defense',\n",
       " \"Pavlov's Box SuperWeird RicK\",\n",
       " 'Bend It Llke Beckham',\n",
       " 'Mr. Reproductive']"
      ]
     },
     "execution_count": 99,
     "metadata": {},
     "output_type": "execute_result"
    }
   ],
   "source": [
    "tal_teams"
   ]
  },
  {
   "cell_type": "code",
   "execution_count": 105,
   "metadata": {},
   "outputs": [],
   "source": [
    "tbn_df = pd.DataFrame(tbn_teams,columns=['Teams'])\n",
    "tbn_df = tbn_df.reindex(columns=[*tbn_df.columns.tolist(), 'W', 'L','PF','PA'], fill_value=0)\n",
    "tal_df = pd.DataFrame(tal_teams,columns=['Teams'])\n",
    "tal_df = tal_df.reindex(columns=[*tal_df.columns.tolist(), 'W', 'L','PF','PA'], fill_value=0)"
   ]
  },
  {
   "cell_type": "code",
   "execution_count": 68,
   "metadata": {},
   "outputs": [
    {
     "name": "stdout",
     "output_type": "stream",
     "text": [
      "1\n",
      "2\n",
      "3\n",
      "4\n"
     ]
    }
   ],
   "source": [
    "for week in range(1, int(current_week)+1):\n",
    "    print(week)\n",
    "    tbn_sc = tbn_league.scoreboard(week)\n",
    "    tal_sc = tal_league.scoreboard(week)"
   ]
  },
  {
   "cell_type": "code",
   "execution_count": 69,
   "metadata": {},
   "outputs": [],
   "source": [
    "scoreboard = tbn_sc"
   ]
  },
  {
   "cell_type": "code",
   "execution_count": 112,
   "metadata": {},
   "outputs": [
    {
     "name": "stdout",
     "output_type": "stream",
     "text": [
      "Team(Scurvy Dawgs)\n",
      "137\n",
      "None\n"
     ]
    },
    {
     "ename": "AttributeError",
     "evalue": "'Matchup' object has no attribute 'away_Score'",
     "output_type": "error",
     "traceback": [
      "\u001b[0;31m---------------------------------------------------------------------------\u001b[0m",
      "\u001b[0;31mAttributeError\u001b[0m                            Traceback (most recent call last)",
      "\u001b[0;32m<ipython-input-112-947a3042c3e5>\u001b[0m in \u001b[0;36m<module>\u001b[0;34m()\u001b[0m\n\u001b[1;32m      4\u001b[0m     \u001b[0mprint\u001b[0m\u001b[0;34m(\u001b[0m\u001b[0mmatch\u001b[0m\u001b[0;34m.\u001b[0m\u001b[0mhome_score\u001b[0m\u001b[0;34m)\u001b[0m\u001b[0;34m\u001b[0m\u001b[0m\n\u001b[1;32m      5\u001b[0m     \u001b[0mprint\u001b[0m\u001b[0;34m(\u001b[0m\u001b[0mmatch\u001b[0m\u001b[0;34m.\u001b[0m\u001b[0maway_team\u001b[0m\u001b[0;34m)\u001b[0m\u001b[0;34m\u001b[0m\u001b[0m\n\u001b[0;32m----> 6\u001b[0;31m     \u001b[0mprint\u001b[0m\u001b[0;34m(\u001b[0m\u001b[0mmatch\u001b[0m\u001b[0;34m.\u001b[0m\u001b[0maway_Score\u001b[0m\u001b[0;34m)\u001b[0m\u001b[0;34m\u001b[0m\u001b[0m\n\u001b[0m",
      "\u001b[0;31mAttributeError\u001b[0m: 'Matchup' object has no attribute 'away_Score'"
     ]
    }
   ],
   "source": [
    "match_dict = {}\n",
    "### parsing matchups\n",
    "### need to send these to the overall df \n",
    "for match in scoreboard:\n",
    "    print(match.home_team)\n",
    "    print(match.home_score)\n",
    "    print(match.away_team)\n",
    "    print(match.away_Score)"
   ]
  },
  {
   "cell_type": "code",
   "execution_count": null,
   "metadata": {},
   "outputs": [],
   "source": [
    "## create a function to parse matchup?\n",
    "def work_through_matchups(mchup):"
   ]
  },
  {
   "cell_type": "code",
   "execution_count": null,
   "metadata": {},
   "outputs": [],
   "source": []
  }
 ],
 "metadata": {
  "kernelspec": {
   "display_name": "Python 3",
   "language": "python",
   "name": "python3"
  },
  "language_info": {
   "codemirror_mode": {
    "name": "ipython",
    "version": 3
   },
   "file_extension": ".py",
   "mimetype": "text/x-python",
   "name": "python",
   "nbconvert_exporter": "python",
   "pygments_lexer": "ipython3",
   "version": "3.6.5"
  }
 },
 "nbformat": 4,
 "nbformat_minor": 2
}
